{
 "cells": [
  {
   "cell_type": "markdown",
   "id": "90d96fd7",
   "metadata": {},
   "source": [
    "Efficiency Example\n",
    "====\n",
    "\n",
    "The first cell is just helper functions; the second cell is where everything happens"
   ]
  },
  {
   "cell_type": "code",
   "execution_count": null,
   "id": "6e0fe5a8",
   "metadata": {},
   "outputs": [],
   "source": [
    "import uproot\n",
    "import numpy as np\n",
    "import matplotlib.pyplot as plt\n",
    "\n",
    "from typing import Tuple\n",
    "from fourbody.param import helicity_param"
   ]
  },
  {
   "cell_type": "code",
   "execution_count": null,
   "id": "14138895",
   "metadata": {},
   "outputs": [],
   "source": [
    "def _read_branches(tree, i: int) -> np.ndarray:\n",
    "    \"\"\"\n",
    "    Read momentum and energy branches for the i'th pion\n",
    "    \n",
    "    \"\"\"\n",
    "    return np.row_stack((tree[f\"Pion{i}_TRUEP_{x}\"] for x in (\"X\", \"Y\", \"Z\", \"E\")))\n",
    "\n",
    "\n",
    "def _read_mc() -> Tuple[np.ndarray, np.ndarray, np.ndarray, np.ndarray]:\n",
    "    \"\"\"\n",
    "    Read that MC file you gave me\n",
    "    \n",
    "    Returns arrays: (px, py, pz, E)\n",
    "    \n",
    "    :returns: (4, N) shape numpy array for pi1\n",
    "    :returns: (4, N) shape numpy array for pi2\n",
    "    :returns: (4, N) shape numpy array for pi3\n",
    "    :returns: (4, N) shape numpy array for pi4\n",
    "    \n",
    "    \"\"\"\n",
    "    with uproot.open(\"Total_DK_as_DK_MC_2017_After_PIC_Calib2_pols_merged_with_PID.root\") as f:\n",
    "        tree = f[\"DecayTree\"]\n",
    "        \n",
    "        pi1, pi2, pi3, pi4 = (_read_branches(tree, i) for i in range(1, 5))\n",
    "        \n",
    "    return pi1, pi2, pi3, pi4\n",
    "        "
   ]
  },
  {
   "cell_type": "code",
   "execution_count": null,
   "id": "7bfe8a1d",
   "metadata": {},
   "outputs": [],
   "source": [
    "# Read the right branches in the data file - we just care about kinematic information (momenta, energy)\n",
    "mc_pi1, mc_pi2, mc_pi3, mc_pi4 = _read_mc()\n",
    "\n",
    "# Generate \"flat\" (phase space distributed) events to compare the MC to\n",
    "flat_pi1, flat_pi2, flat_pi3, flat_pi4 = _generate_flat()\n",
    "\n",
    "# Parameterise both into 5d point\n",
    "# NB this function accepts (pi+ pi+ pi- pi-) (or pi- pi- pi+ pi+)\n",
    "mc = helicity_param(mc_pi1, mc_pi3, mc_pi2, mc_pi4)\n",
    "flat = helicity_param(flat_pi1, flat_pi2, flat_pi3, flat_pi4)\n",
    "\n",
    "# Train a reweighter\n",
    "\n",
    "# Plot"
   ]
  },
  {
   "cell_type": "code",
   "execution_count": null,
   "id": "2553dfdf",
   "metadata": {},
   "outputs": [],
   "source": []
  }
 ],
 "metadata": {
  "kernelspec": {
   "display_name": "Python 3 (ipykernel)",
   "language": "python",
   "name": "python3"
  },
  "language_info": {
   "codemirror_mode": {
    "name": "ipython",
    "version": 3
   },
   "file_extension": ".py",
   "mimetype": "text/x-python",
   "name": "python",
   "nbconvert_exporter": "python",
   "pygments_lexer": "ipython3",
   "version": "3.10.4"
  }
 },
 "nbformat": 4,
 "nbformat_minor": 5
}
